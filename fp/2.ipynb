{
 "cells": [
  {
   "cell_type": "markdown",
   "id": "f02f0767",
   "metadata": {},
   "source": [
    "#### Python array"
   ]
  },
  {
   "cell_type": "markdown",
   "id": "9f950f94",
   "metadata": {},
   "source": [
    "Besides a list and tuple Python has some other data structures.\n",
    "(Compound) data structures can be classified into 2 different ways:\n",
    "* mutable vs immutable\n",
    "  - Among the **mutable** object we have: list, set, dict, array\n",
    "  - Among the **immutable** object we have: float, int, bool, tuple, str, byte\n",
    "* sequence vs container:\n",
    "  - List, tuple are **container** types:\n",
    "    Container types contain pointer to objects.\n",
    "  - arrays are sequences\n",
    "    Arrays contain a header of the types i.e. 'd' (double), 'i' (integer).\n",
    "    but contain the elements as such in a sequence.  \n",
    "    \n",
    "    \n",
    "More info in the python data model:\n",
    "https://docs.python.org/3/reference/datamodel.html"
   ]
  },
  {
   "cell_type": "code",
   "execution_count": 19,
   "id": "cf619532",
   "metadata": {},
   "outputs": [
    {
     "name": "stdout",
     "output_type": "stream",
     "text": [
      "x:array('i', [1, 17, 25])\n",
      " Type of <class 'array.array'>\n",
      "Element can NOT be added (requires an integer)!\n",
      "x:array('i', [1, 17, 25, 13])\n"
     ]
    }
   ],
   "source": [
    "import array\n",
    "\n",
    "x = array.array('i',[1,17,25])\n",
    "print(f\"x:{x}\")\n",
    "print(f\" Type of {type(x)}\")\n",
    "\n",
    "try:\n",
    "    x.append(13.5)\n",
    "except TypeError:\n",
    "    print(\"Element can NOT be added (requires an integer)!\")\n",
    "x.append(13)\n",
    "print(f\"x:{x}\")"
   ]
  },
  {
   "cell_type": "code",
   "execution_count": 18,
   "id": "8c13896e",
   "metadata": {},
   "outputs": [
    {
     "name": "stdout",
     "output_type": "stream",
     "text": [
      "*** PYTHON LIST (COMPLETE) ***\n",
      " a:[0, 1, 2, 3, 4, 5, 6, 7, 8, 9]  id(a):139910958538816\n",
      " b:[0, 1, 2, 3, 4, 5, 6, 7, 8, 9]  id(b):139910640230976\n",
      " a:[0, 1, 2, 3, 4, 5, 6, 7, 8, 9]\n",
      "\n",
      "\n",
      "*** NUMPY ***\n",
      " c:[0 1 2 3 4 5 6 7 8 9]\n",
      "  C_CONTIGUOUS : True\n",
      "  F_CONTIGUOUS : True\n",
      "  OWNDATA : False\n",
      "  WRITEABLE : True\n",
      "  ALIGNED : True\n",
      "  WRITEBACKIFCOPY : False\n",
      "  UPDATEIFCOPY : False\n",
      "\n",
      " c:[   0    1    2    3    4 1000    6    7    8    9]\n"
     ]
    }
   ],
   "source": [
    "# NumPy array vs. Arrays in Python vs. List\n",
    "# PYTHON LIST\n",
    "print(f\"*** PYTHON LIST (COMPLETE) ***\")\n",
    "a = list(range(10))\n",
    "b = a[:]\n",
    "print(f\" a:{a}  id(a):{id(a)}\")\n",
    "print(f\" b:{b}  id(b):{id(b)}\")\n",
    "# Proof of copy\n",
    "b[5]=1000\n",
    "print(f\" a:{a}\\n\\n\")\n",
    "\n",
    "\n",
    "# NumPy [:] (Slicing) is a VIEW (NOT a  copy!!)\n",
    "print(f\"*** NUMPY ***\")\n",
    "import numpy as np\n",
    "c = np.arange(10)\n",
    "d = c[:]\n",
    "print(f\" c:{c}\")\n",
    "print(d.flags)\n",
    "d[5]=1000\n",
    "print(f\" c:{c}\")https://docs.python.org/3/reference/datamodel.html"
   ]
  },
  {
   "cell_type": "markdown",
   "id": "0d8c672b",
   "metadata": {},
   "source": [
    "#### Walrus operator and list comprehension"
   ]
  },
  {
   "cell_type": "markdown",
   "id": "db937d43",
   "metadata": {},
   "source": [
    "Variables within list comprehensions and generator comprehensions have a local scope.\n",
    "They are not visible outside the list and generator comprehension.\n",
    "The walrus operator (:=) changes this\n",
    "\n",
    "The walrus operator was introduced in: **Python 3.8** (Guido van Rossum , Tim Peters).<br>\n",
    "see e.g.: https://peps.python.org/pep-0572/"
   ]
  },
  {
   "cell_type": "code",
   "execution_count": 1,
   "id": "0c25df98",
   "metadata": {},
   "outputs": [
    {
     "name": "stdout",
     "output_type": "stream",
     "text": [
      "x:[0, 1, 4, 9, 16, 25, 36, 49, 64, 81]\n",
      "val:81\n"
     ]
    }
   ],
   "source": [
    "x = [ val:=i**2 for i in range(10)]\n",
    "print(f\"x:{x}\")\n",
    "print(f\"val:{val}\")"
   ]
  },
  {
   "cell_type": "code",
   "execution_count": 3,
   "id": "80b4bb45",
   "metadata": {},
   "outputs": [
    {
     "name": "stdout",
     "output_type": "stream",
     "text": [
      "y:[0, 1, 2, 3, 4, 5, 6, 7, 8, 9]\n",
      "name 'k' is not defined\n"
     ]
    }
   ],
   "source": [
    "try:\n",
    "    y = [ k for k in range(10)]\n",
    "    print(f\"y:{y}\")\n",
    "    print(f\"k:{k}\")\n",
    "except Exception as err:\n",
    "    print(err)"
   ]
  },
  {
   "cell_type": "markdown",
   "id": "36ec3650",
   "metadata": {},
   "source": [
    "#### Match operator/pattern matching"
   ]
  },
  {
   "cell_type": "code",
   "execution_count": null,
   "id": "63df88f9",
   "metadata": {},
   "outputs": [],
   "source": [
    "See e.g.: https://peps.python.org/pep-0622/"
   ]
  }
 ],
 "metadata": {
  "kernelspec": {
   "display_name": "Python 3 (ipykernel)",
   "language": "python",
   "name": "python3"
  },
  "language_info": {
   "codemirror_mode": {
    "name": "ipython",
    "version": 3
   },
   "file_extension": ".py",
   "mimetype": "text/x-python",
   "name": "python",
   "nbconvert_exporter": "python",
   "pygments_lexer": "ipython3",
   "version": "3.9.7"
  },
  "latex_envs": {
   "LaTeX_envs_menu_present": true,
   "autoclose": false,
   "autocomplete": true,
   "bibliofile": "biblio.bib",
   "cite_by": "apalike",
   "current_citInitial": 1,
   "eqLabelWithNumbers": true,
   "eqNumInitial": 1,
   "hotkeys": {
    "equation": "Ctrl-E",
    "itemize": "Ctrl-I"
   },
   "labels_anchors": false,
   "latex_user_defs": false,
   "report_style_numbering": false,
   "user_envs_cfg": false
  },
  "toc": {
   "base_numbering": 1,
   "nav_menu": {},
   "number_sections": true,
   "sideBar": true,
   "skip_h1_title": false,
   "title_cell": "Table of Contents",
   "title_sidebar": "Contents",
   "toc_cell": false,
   "toc_position": {},
   "toc_section_display": true,
   "toc_window_display": false
  }
 },
 "nbformat": 4,
 "nbformat_minor": 5
}
